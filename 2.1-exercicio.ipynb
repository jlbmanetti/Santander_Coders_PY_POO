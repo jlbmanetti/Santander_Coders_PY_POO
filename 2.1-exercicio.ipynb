{
 "cells": [
  {
   "cell_type": "markdown",
   "metadata": {},
   "source": [
    "Estudo de Caso 2:\n",
    "Como representar um cliente de banco e uma conta bancária em Python, onde toda conta possui um cliente e vice-versa."
   ]
  },
  {
   "cell_type": "code",
   "execution_count": null,
   "metadata": {},
   "outputs": [],
   "source": [
    "# n. conta | cliente \n",
    "\n",
    "class Cliente: #nome da classe\n",
    "    def __init__(self, nome, conta): #contrução da classe, receber as infos\n",
    "        self.nome = nome\n",
    "        self.conta = conta\n",
    "\n",
    "class Banco:\n",
    "    def __init__(self):\n",
    "        self.clientes = []\n",
    "\n",
    "    def visualizar_clientes(self):\n",
    "        for i in self.clientes:\n",
    "            print(f\"ID Conta: {i.id_conta}, Nome: {i.nome_cliente}\")\n",
    "\n",
    "    def adicionar_cliente(self, i)\n",
    "        self.clientes.append(i)\n",
    "\n",
    "    def remover_cliente(self, )\n",
    "        "
   ]
  }
 ],
 "metadata": {
  "language_info": {
   "name": "python"
  },
  "orig_nbformat": 4
 },
 "nbformat": 4,
 "nbformat_minor": 2
}
