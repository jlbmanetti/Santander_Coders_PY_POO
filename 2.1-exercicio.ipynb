{
 "cells": [
  {
   "cell_type": "markdown",
   "metadata": {},
   "source": [
    "Estudo de Caso 2:\n",
    "Como representar um cliente de banco e uma conta bancária em Python, onde toda conta possui um cliente e vice-versa."
   ]
  },
  {
   "cell_type": "code",
   "execution_count": null,
   "metadata": {},
   "outputs": [],
   "source": [
    "# n. conta | cliente \n",
    "\n",
    "class Cliente: #nome da classe\n",
    "    def __init__(self, nome, conta): #contrução da classe\n",
    "        self.nome = nome #pq fazemos isso?\n",
    "        self.conta = conta\n",
    "\n",
    "class Banco:\n",
    "    def __init__(self):\n",
    "        self.clientes = []\n",
    "\n",
    "    def adicionar_cliente(self, cliente)\n",
    "        self.clientes.append(cliente)\n",
    "\n",
    "    def remover_cliente(self, )\n",
    "        "
   ]
  }
 ],
 "metadata": {
  "language_info": {
   "name": "python"
  },
  "orig_nbformat": 4
 },
 "nbformat": 4,
 "nbformat_minor": 2
}
